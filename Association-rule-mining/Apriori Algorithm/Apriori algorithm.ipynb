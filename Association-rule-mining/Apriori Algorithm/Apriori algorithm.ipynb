{
 "cells": [
  {
   "cell_type": "code",
   "execution_count": 1,
   "metadata": {},
   "outputs": [
    {
     "name": "stdout",
     "output_type": "stream",
     "text": [
      " Volume in drive E is Data\n",
      " Volume Serial Number is A43C-D0BF\n",
      "\n",
      " Directory of E:\\iiit\\Sem3\\data_analytics\\project_3\n",
      "\n",
      "18-10-2020  11:45    <DIR>          .\n",
      "18-10-2020  11:45    <DIR>          ..\n",
      "18-10-2020  10:36    <DIR>          .ipynb_checkpoints\n",
      "15-10-2020  19:55    <DIR>          __pycache__\n",
      "18-10-2020  11:45            16,078 Apriori algorithm.ipynb\n",
      "18-10-2020  11:24            13,325 apriori using library.ipynb\n",
      "11-10-2020  22:54           129,454 DA1_ARM_Project.pdf\n",
      "17-10-2020  13:13            11,234 FP_TREE.ipynb\n",
      "13-10-2020  20:49         4,168,937 retail_data.txt\n",
      "15-10-2020  21:43           111,427 temp_data.txt\n",
      "15-10-2020  19:55             1,948 utils.py\n",
      "               7 File(s)      4,452,403 bytes\n",
      "               4 Dir(s)  400,847,364,096 bytes free\n"
     ]
    }
   ],
   "source": [
    "ls"
   ]
  },
  {
   "cell_type": "code",
   "execution_count": 2,
   "metadata": {},
   "outputs": [],
   "source": [
    "import numpy as np\n",
    "from utils import *"
   ]
  },
  {
   "cell_type": "code",
   "execution_count": 3,
   "metadata": {},
   "outputs": [],
   "source": [
    "data_path=r'E:\\iiit\\Sem3\\data_analytics\\project_3\\retail_data.txt'"
   ]
  },
  {
   "cell_type": "code",
   "execution_count": 4,
   "metadata": {},
   "outputs": [],
   "source": [
    "min_support=0.05\n",
    "min_confidence=0.05"
   ]
  },
  {
   "cell_type": "code",
   "execution_count": 5,
   "metadata": {},
   "outputs": [
    {
     "name": "stderr",
     "output_type": "stream",
     "text": [
      "88162it [00:01, 73714.10it/s]\n"
     ]
    }
   ],
   "source": [
    "transactions=load_transaction(data_path)\n",
    "num_transactions=len(transactions)"
   ]
  },
  {
   "cell_type": "code",
   "execution_count": 6,
   "metadata": {},
   "outputs": [],
   "source": [
    "mx=-1\n",
    "for t in transactions:\n",
    "    if mx < max(t):\n",
    "        mx=max(t)"
   ]
  },
  {
   "cell_type": "code",
   "execution_count": 7,
   "metadata": {},
   "outputs": [],
   "source": [
    "order=[i for i in range(1,mx+1)]"
   ]
  },
  {
   "cell_type": "code",
   "execution_count": 8,
   "metadata": {},
   "outputs": [],
   "source": [
    "C={}\n",
    "L={}\n",
    "itemset_size=1\n",
    "Discarded={itemset_size:[]}\n",
    "C.update({itemset_size : [[f] for f in order]})"
   ]
  },
  {
   "cell_type": "code",
   "execution_count": null,
   "metadata": {},
   "outputs": [],
   "source": []
  },
  {
   "cell_type": "code",
   "execution_count": 9,
   "metadata": {},
   "outputs": [
    {
     "name": "stderr",
     "output_type": "stream",
     "text": [
      "100%|████████████████████████████████████████████████████████████████████████████| 16470/16470 [21:44<00:00, 12.63it/s]\n"
     ]
    }
   ],
   "source": [
    "support_count_L={}\n",
    "f,sup,new_discarded=get_frequent(C[itemset_size],transactions,min_support,Discarded)\n",
    "Discarded.update({itemset_size:new_discarded})\n",
    "L.update({itemset_size:f})\n",
    "support_count_L.update({itemset_size:sup})"
   ]
  },
  {
   "cell_type": "code",
   "execution_count": 10,
   "metadata": {},
   "outputs": [],
   "source": [
    "def print_table(T,supp_count):\n",
    "    print('Itemset | Frequency')\n",
    "    for k in range(len(T)):\n",
    "        print(f'{T[k]}  :  {supp_count[k]}')\n",
    "    print('\\n\\n')"
   ]
  },
  {
   "cell_type": "code",
   "execution_count": 11,
   "metadata": {},
   "outputs": [
    {
     "name": "stdout",
     "output_type": "stream",
     "text": [
      "L1: \n",
      "\n",
      "Itemset | Frequency\n",
      "[33]  :  15167\n",
      "[39]  :  15596\n",
      "[40]  :  50675\n",
      "[42]  :  14945\n",
      "[49]  :  42135\n",
      "[66]  :  4472\n",
      "\n",
      "\n",
      "\n"
     ]
    }
   ],
   "source": [
    "print('L1: \\n')\n",
    "print_table(L[1],support_count_L[1])"
   ]
  },
  {
   "cell_type": "code",
   "execution_count": 12,
   "metadata": {},
   "outputs": [
    {
     "name": "stdout",
     "output_type": "stream",
     "text": [
      "Table C2 \n",
      " \n"
     ]
    },
    {
     "name": "stderr",
     "output_type": "stream",
     "text": [
      " 13%|███████████                                                                        | 2/15 [00:00<00:01, 11.24it/s]"
     ]
    },
    {
     "name": "stdout",
     "output_type": "stream",
     "text": [
      "Itemset | Frequency\n",
      "[33, 39]  :  2833\n",
      "[33, 40]  :  8455\n",
      "[33, 42]  :  3196\n",
      "[33, 49]  :  8034\n",
      "[33, 66]  :  774\n",
      "[39, 40]  :  10345\n",
      "[39, 42]  :  3897\n",
      "[39, 49]  :  7944\n",
      "[39, 66]  :  643\n",
      "[40, 42]  :  11414\n",
      "[40, 49]  :  29142\n",
      "[40, 66]  :  2787\n",
      "[42, 49]  :  9018\n",
      "[42, 66]  :  995\n",
      "[49, 66]  :  2529\n",
      "\n",
      "\n",
      "\n"
     ]
    },
    {
     "name": "stderr",
     "output_type": "stream",
     "text": [
      "100%|██████████████████████████████████████████████████████████████████████████████████| 15/15 [00:01<00:00, 10.86it/s]\n"
     ]
    },
    {
     "name": "stdout",
     "output_type": "stream",
     "text": [
      "Table L2 \n",
      " \n",
      "Itemset | Frequency\n",
      "[33, 40]  :  8455\n",
      "[33, 49]  :  8034\n",
      "[39, 40]  :  10345\n",
      "[39, 49]  :  7944\n",
      "[40, 42]  :  11414\n",
      "[40, 49]  :  29142\n",
      "[42, 49]  :  9018\n",
      "\n",
      "\n",
      "\n",
      "Table C3 \n",
      " \n",
      "Itemset | Frequency\n",
      "[33, 40, 49]  :  5402\n",
      "[39, 40, 49]  :  6102\n",
      "[40, 42, 49]  :  7366\n",
      "\n",
      "\n",
      "\n"
     ]
    },
    {
     "name": "stderr",
     "output_type": "stream",
     "text": [
      "100%|████████████████████████████████████████████████████████████████████████████████████| 3/3 [00:00<00:00,  9.87it/s]\n",
      "0it [00:00, ?it/s]"
     ]
    },
    {
     "name": "stdout",
     "output_type": "stream",
     "text": [
      "Table L3 \n",
      " \n",
      "Itemset | Frequency\n",
      "[33, 40, 49]  :  5402\n",
      "[39, 40, 49]  :  6102\n",
      "[40, 42, 49]  :  7366\n",
      "\n",
      "\n",
      "\n",
      "Table C4 \n",
      " \n",
      "Itemset | Frequency\n",
      "\n",
      "\n",
      "\n"
     ]
    },
    {
     "name": "stderr",
     "output_type": "stream",
     "text": [
      "\n"
     ]
    }
   ],
   "source": [
    "k=itemset_size+1\n",
    "convergence=False\n",
    "\n",
    "while convergence==False:\n",
    "    C.update({k : join_set_itemsets(L[k-1],order)})\n",
    "    print(f'Table C{k} \\n ')\n",
    "    print_table(C[k],[count_occurances(it,transactions) for it in C[k]])\n",
    "    f,sup,new_discarded=get_frequent(C[k],transactions,min_support,Discarded)\n",
    "    Discarded.update({k : new_discarded})\n",
    "    L.update({k : f})\n",
    "    support_count_L.update({k : sup})\n",
    "    \n",
    "    if len(L[k])==0:\n",
    "        convergence=True\n",
    "    else:\n",
    "        print(f'Table L{k} \\n ')\n",
    "        print_table(L[k],support_count_L[k])\n",
    "        \n",
    "    k+=1"
   ]
  },
  {
   "cell_type": "markdown",
   "metadata": {},
   "source": [
    "GENERATING ASSOCIATION RULES"
   ]
  },
  {
   "cell_type": "code",
   "execution_count": 17,
   "metadata": {},
   "outputs": [],
   "source": [
    "from itertools import combinations,chain\n",
    "def powerset(s):\n",
    "    return list(chain.from_iterable(combinations(s,r) for r in range(1,len(s)+1)))"
   ]
  },
  {
   "cell_type": "code",
   "execution_count": 18,
   "metadata": {},
   "outputs": [],
   "source": [
    "def write_rules(X,X_S,S,confidence,support_x,lift,num_transactions):\n",
    "    out_rules=\"\"\n",
    "    out_rules+=f'Frequent Itemset {X}'\n",
    "    out_rules+=f'      Rule {list(S)} ---> {list(X_S)}'\n",
    "    out_rules+='      Confidence {0:2.3f}'.format(confidence)\n",
    "    out_rules+='      Support {0:2.3f}'.format(support_x/num_transactions)\n",
    "    out_rules+='      Lift {0:2.3f}\\n'.format(lift)\n",
    "    return out_rules"
   ]
  },
  {
   "cell_type": "code",
   "execution_count": 19,
   "metadata": {},
   "outputs": [],
   "source": [
    "association_rules=\"\"\n",
    "for i in range(1,len(L)):\n",
    "    for j in range(len(L[i])):\n",
    "        s = powerset(set(L[i][j]))\n",
    "        s.pop()#remove subset with all the items\n",
    "        for z in s:\n",
    "            S = set(z)\n",
    "            X=set(L[i][j])\n",
    "            X_S=set(X-S)\n",
    "            \n",
    "            support_x=count_occurances(X,transactions)\n",
    "            support_x_s=count_occurances(X_S,transactions)\n",
    "            \n",
    "            confidence=support_x / support_x_s\n",
    "            lift=confidence/(count_occurances(S,transactions)/num_transactions)\n",
    "            \n",
    "            if support_x >= min_support:\n",
    "                association_rules+=write_rules(X,X_S,S,confidence,support_x,lift,num_transactions)\n",
    "                \n",
    "                "
   ]
  },
  {
   "cell_type": "code",
   "execution_count": 20,
   "metadata": {
    "scrolled": false
   },
   "outputs": [
    {
     "name": "stdout",
     "output_type": "stream",
     "text": [
      "Frequent Itemset {40, 33}      Rule [40] ---> [33]      Confidence 0.557      Support 0.096      Lift 0.970\n",
      "Frequent Itemset {40, 33}      Rule [33] ---> [40]      Confidence 0.167      Support 0.096      Lift 0.970\n",
      "Frequent Itemset {33, 49}      Rule [33] ---> [49]      Confidence 0.191      Support 0.091      Lift 1.108\n",
      "Frequent Itemset {33, 49}      Rule [49] ---> [33]      Confidence 0.530      Support 0.091      Lift 1.108\n",
      "Frequent Itemset {40, 39}      Rule [40] ---> [39]      Confidence 0.663      Support 0.117      Lift 1.154\n",
      "Frequent Itemset {40, 39}      Rule [39] ---> [40]      Confidence 0.204      Support 0.117      Lift 1.154\n",
      "Frequent Itemset {49, 39}      Rule [49] ---> [39]      Confidence 0.509      Support 0.090      Lift 1.066\n",
      "Frequent Itemset {49, 39}      Rule [39] ---> [49]      Confidence 0.189      Support 0.090      Lift 1.066\n",
      "Frequent Itemset {40, 42}      Rule [40] ---> [42]      Confidence 0.764      Support 0.129      Lift 1.329\n",
      "Frequent Itemset {40, 42}      Rule [42] ---> [40]      Confidence 0.225      Support 0.129      Lift 1.329\n",
      "Frequent Itemset {40, 49}      Rule [40] ---> [49]      Confidence 0.692      Support 0.331      Lift 1.203\n",
      "Frequent Itemset {40, 49}      Rule [49] ---> [40]      Confidence 0.575      Support 0.331      Lift 1.203\n",
      "Frequent Itemset {49, 42}      Rule [49] ---> [42]      Confidence 0.603      Support 0.102      Lift 1.263\n",
      "Frequent Itemset {49, 42}      Rule [42] ---> [49]      Confidence 0.214      Support 0.102      Lift 1.263\n",
      "Frequent Itemset {40, 33, 49}      Rule [40] ---> [33, 49]      Confidence 0.672      Support 0.061      Lift 1.170\n",
      "Frequent Itemset {40, 33, 49}      Rule [33] ---> [40, 49]      Confidence 0.185      Support 0.061      Lift 1.077\n",
      "Frequent Itemset {40, 33, 49}      Rule [49] ---> [40, 33]      Confidence 0.639      Support 0.061      Lift 1.337\n",
      "Frequent Itemset {40, 33, 49}      Rule [40, 33] ---> [49]      Confidence 0.128      Support 0.061      Lift 1.337\n",
      "Frequent Itemset {40, 33, 49}      Rule [40, 49] ---> [33]      Confidence 0.356      Support 0.061      Lift 1.077\n",
      "Frequent Itemset {40, 33, 49}      Rule [33, 49] ---> [40]      Confidence 0.107      Support 0.061      Lift 1.170\n",
      "Frequent Itemset {40, 49, 39}      Rule [40] ---> [49, 39]      Confidence 0.768      Support 0.069      Lift 1.336\n",
      "Frequent Itemset {40, 49, 39}      Rule [49] ---> [40, 39]      Confidence 0.590      Support 0.069      Lift 1.234\n",
      "Frequent Itemset {40, 49, 39}      Rule [39] ---> [40, 49]      Confidence 0.209      Support 0.069      Lift 1.184\n",
      "Frequent Itemset {40, 49, 39}      Rule [40, 49] ---> [39]      Confidence 0.391      Support 0.069      Lift 1.184\n",
      "Frequent Itemset {40, 49, 39}      Rule [40, 39] ---> [49]      Confidence 0.145      Support 0.069      Lift 1.234\n",
      "Frequent Itemset {40, 49, 39}      Rule [49, 39] ---> [40]      Confidence 0.120      Support 0.069      Lift 1.336\n",
      "Frequent Itemset {40, 49, 42}      Rule [40] ---> [49, 42]      Confidence 0.817      Support 0.084      Lift 1.421\n",
      "Frequent Itemset {40, 49, 42}      Rule [49] ---> [40, 42]      Confidence 0.645      Support 0.084      Lift 1.350\n",
      "Frequent Itemset {40, 49, 42}      Rule [42] ---> [40, 49]      Confidence 0.253      Support 0.084      Lift 1.491\n",
      "Frequent Itemset {40, 49, 42}      Rule [40, 49] ---> [42]      Confidence 0.493      Support 0.084      Lift 1.491\n",
      "Frequent Itemset {40, 49, 42}      Rule [40, 42] ---> [49]      Confidence 0.175      Support 0.084      Lift 1.350\n",
      "Frequent Itemset {40, 49, 42}      Rule [49, 42] ---> [40]      Confidence 0.145      Support 0.084      Lift 1.421\n",
      "\n"
     ]
    }
   ],
   "source": [
    "print(association_rules)"
   ]
  },
  {
   "cell_type": "code",
   "execution_count": null,
   "metadata": {},
   "outputs": [],
   "source": []
  },
  {
   "cell_type": "code",
   "execution_count": null,
   "metadata": {},
   "outputs": [],
   "source": [
    "from itertools import combinations,chain\n",
    "\n",
    "class Apriori:\n",
    "    def __init__(self,min_support,min_confidence):\n",
    "        self.min_support=min_support\n",
    "        self.min_confidence=min_confidence\n",
    "        self.order=None\n",
    "        self.transactions=None\n",
    "        self.num_transactions=None\n",
    "        self.Candidates={}\n",
    "        self.Itemsets={}\n",
    "        self.Itemset_support_counts={}\n",
    "        self.Discarded_itemsets={}\n",
    "        self.order=None\n",
    "        self.frequent_itemsets={}\n",
    "        self.itemsets_rules=[]\n",
    "        self.itemset_supports=[]\n",
    "        self.freq_itemsets=[]\n",
    "\n",
    "    \n",
    "    def count_itemset_occurance(self,itemsets,transactions):\n",
    "        count=0\n",
    "        for i in range(len(transactions)):\n",
    "            if set(itemsets).issubset(set(transactions[i]):\n",
    "                count+=1\n",
    "        return count\n",
    "    \n",
    "    def merge(self,itemset1,itemset2):\n",
    "        itemset1.sort(key=lambda val : self.order.index(val))\n",
    "        itemset2.sort(key=lambda val : self.order.index(val))\n",
    "    \n",
    "        for i in range(len(itemset1)-1):\n",
    "            if itemset1[i]!=itemset2[i]:\n",
    "                return []\n",
    "\n",
    "        if self.order.index(itemset1[-1]) < self.order.index(itemset2[-1]):\n",
    "            return itemset1+[itemset2[-1]]\n",
    "        return []\n",
    "    \n",
    "    def join_itemsets(self,set_of_itemsets):\n",
    "        Candidates=[]\n",
    "        for i in range(len(set_of_itemsets)):\n",
    "            for j in range(i+1,len(set_of_itemsets)):\n",
    "                itemsets_out=self.merge(set_of_itemsets[i],set_of_itemsets[j])\n",
    "                if len(itemsets_out)>0:\n",
    "                    Candidates.append(itemsets_out)\n",
    "        return Candidates\n",
    "    \n",
    "    def get_freuqent_itemsets(self,itemsets,transactions,minimum_support,previously_discarded):\n",
    "        L=[]\n",
    "        supp_count=[]\n",
    "        new_discarded=[]\n",
    "\n",
    "        num_transactions=len(transactions)\n",
    "\n",
    "        k=len(previously_discarded.keys())\n",
    "\n",
    "        for s in tqdm(range(len(itemsets))):\n",
    "            discarded_before=False\n",
    "\n",
    "            if(k > 0):\n",
    "                for item in previously_discarded[k]:\n",
    "                    if(set(item).issubset(set(itemsets[s]))):\n",
    "                        discarded_before=True\n",
    "                        break\n",
    "\n",
    "            if not discarded_before:\n",
    "                count=self.count_itemset_occurance(itemsets[s],transactions)\n",
    "                if count/num_transactions >=minimum_support:\n",
    "                    L.append(itemsets[s])\n",
    "                    supp_count.append(count)\n",
    "                else:\n",
    "                    new_discarded.append(itemsets[s])\n",
    "\n",
    "        return L,supp_count,new_discarded\n",
    "    \n",
    "    def get_order(self,transactions):\n",
    "        mx=-1\n",
    "        for t in transactions:\n",
    "            if mx < max(t):\n",
    "                mx=max(t)\n",
    "        return mx\n",
    "    \n",
    "    def print_table(self,T,supp_count):\n",
    "        print('Itemset | Frequency')\n",
    "        for k in range(len(T)):\n",
    "            print(f'{T[k]}  :  {supp_count[k]}')\n",
    "        print('\\n\\n')\n",
    "    \n",
    "    def update_tables(self,itemset_size,frequency,support_count,new_discarded): \n",
    "        self.Discarded_itemsets.update({itemset_size:new_discarded})\n",
    "        self.Itemsets.update({itemset_size:frequency})\n",
    "        self.Itemset_support_counts.update({itemset_size:support_count})\n",
    "\n",
    "    \n",
    "    def init(self,transactions):\n",
    "        self.order=[i for i in range(1,self.get_order(transactions)+1)]\n",
    "        itemset_size=1\n",
    "        \n",
    "        self.Discarded_itemsets={itemset_size:[]}\n",
    "        self.Candidates.update({itemset_size : [[f] for f in self.order]})\n",
    "        \n",
    "        frequency,support_count,new_discarded=self.get_freuqent_itemsets(self.Candidates[itemset_size],transactions,self.min_support,self.Discarded_itemsets)    \n",
    "        \n",
    "        self.update_tables(itemset_size,frequency,support_count,new_discarded)\n",
    "        \n",
    "        \n",
    "    def powerset(self,s):\n",
    "        return list(chain.from_iterable(combinations(s,r) for r in range(1,len(s)+1)))\n",
    "    \n",
    "    def generate_itemset_frequency(self,verbose):\n",
    "        k=2\n",
    "        convergence=False\n",
    "\n",
    "        while convergence==False:\n",
    "            self.Candidates.update({k : self.join_itemsets(self.Itemsets[k-1])})\n",
    "            \n",
    "            if(verbose==1):\n",
    "                print(f'Table Candidates {k} \\n ')\n",
    "                self.print_table(self.Candidates[k],[self.count_itemset_occurance(it,self.transactions) for it in self.Candidates[k]])\n",
    "            \n",
    "            frequency,support_count,new_discarded=self.get_freuqent_itemsets(self.Candidates[k],\n",
    "                                                                    self.transactions,self.min_support,self.Discarded_itemsets)\n",
    "            \n",
    "            self.update_tables(k,frequency,support_count,new_discarded)\n",
    "\n",
    "            if len(self.Itemsets[k])==0:\n",
    "                convergence=True\n",
    "            else:\n",
    "                print(f'Table Itemsets {k} \\n ')\n",
    "                self.print_table(self.Itemsets[k],self.Itemset_support_counts[k])\n",
    "\n",
    "            k+=1\n",
    "    \n",
    "    def create_rule_set(self,itemset,rule_rhs,rule_lhs,confidence,itemset_support):\n",
    "        self.freq_itemsets.append(itemset)\n",
    "        rule=f'{list(rule_lhs)} --> {list(rule_rhs)}'\n",
    "        self.itemsets_rules.append(rule)\n",
    "        self.itemset_supports.append(float(itemset_support/self.num_transactions))\n",
    "    \n",
    "    \n",
    "    def generate_association_rules(self):\n",
    "        association_rules=\"\"\n",
    "        for i in range(1,len(self.Itemsets)):\n",
    "            for j in range(len(self.Itemsets[i])):\n",
    "                s = self.powerset(set(self.Itemsets[i][j]))\n",
    "                \n",
    "                s.pop()#remove subset with all the items\n",
    "                for z in s:\n",
    "                    S = set(z)\n",
    "                    X=set(self.Itemsets[i][j])\n",
    "                    X_S=set(X-S)\n",
    "\n",
    "                    support_x=self.count_itemset_occurance(X,self.transactions)\n",
    "                    support_x_s=self.count_itemset_occurance(X_S,self.transactions)\n",
    "\n",
    "                    confidence=support_x / support_x_s\n",
    "\n",
    "                    if support_x >= self.min_support:\n",
    "                        self.create_rule_set(X,X_S,S,confidence,support_x)\n",
    "\n",
    "    \n",
    "    def fit_transform(self,transactions,verbose=0):\n",
    "        self.transactions=transactions\n",
    "        self.num_transactions=len(self.transactions)    \n",
    "        \n",
    "        self.init(self.transactions)\n",
    "        \n",
    "        if(verbose==1):\n",
    "            self.print_table(self.Itemsets[1],self.Itemset_support_counts[1])\n",
    "    \n",
    "        \n",
    "        self.generate_itemset_frequency(verbose)\n",
    "        \n",
    "        self.generate_association_rules()\n",
    "        \n",
    "        self.frequent_itemsets={'Itemset':self.freq_itemsets,'Rule':self.itemsets_rules,'Support':self.itemset_supports}\n",
    "        return pd.DataFrame(self.frequent_itemsets)"
   ]
  },
  {
   "cell_type": "code",
   "execution_count": null,
   "metadata": {},
   "outputs": [],
   "source": []
  },
  {
   "cell_type": "code",
   "execution_count": 2,
   "metadata": {},
   "outputs": [],
   "source": [
    "from tqdm import tqdm\n",
    "import numpy as np\n",
    "from collections import defaultdict\n",
    "import operator"
   ]
  },
  {
   "cell_type": "code",
   "execution_count": 66,
   "metadata": {},
   "outputs": [],
   "source": [
    "#Simple apriori for k=3\n",
    "def load_transaction(data_path,type_=None):\n",
    "        transactions=[]\n",
    "        with open(data_path,'r') as data_file:\n",
    "            for lines in tqdm(data_file):\n",
    "                if(type_==2):\n",
    "                    transactions_list=list(lines.strip('-2\\n').split('-1'))\n",
    "                else:\n",
    "                    transactions_list=list(lines.strip().split())\n",
    "                \n",
    "                transactions_list=[int(x) for x in transactions_list if x is not ' ']\n",
    "\n",
    "                transactions_list=list(np.unique(transactions_list))\n",
    "                transactions_list.sort()\n",
    "                transactions.append(transactions_list)\n",
    "\n",
    "        return transactions\n"
   ]
  },
  {
   "cell_type": "code",
   "execution_count": 68,
   "metadata": {},
   "outputs": [],
   "source": [
    "# transactions=load_transaction('retail_data.txt')"
   ]
  },
  {
   "cell_type": "code",
   "execution_count": 69,
   "metadata": {},
   "outputs": [
    {
     "name": "stderr",
     "output_type": "stream",
     "text": [
      "77512it [00:00, 82372.34it/s]\n"
     ]
    }
   ],
   "source": [
    "transactions=load_transaction('bwv_data_2.txt',2)"
   ]
  },
  {
   "cell_type": "code",
   "execution_count": 73,
   "metadata": {},
   "outputs": [],
   "source": [
    "# freq_comm2=defaultdict(int)\n",
    "# for trans in new_transactions:\n",
    "#     for item in trans:\n",
    "#         freq_comm2[item]+=1"
   ]
  },
  {
   "cell_type": "code",
   "execution_count": 71,
   "metadata": {},
   "outputs": [
    {
     "data": {
      "text/plain": [
       "0"
      ]
     },
     "execution_count": 71,
     "metadata": {},
     "output_type": "execute_result"
    }
   ],
   "source": [
    "len(freq_comm2)"
   ]
  },
  {
   "cell_type": "code",
   "execution_count": 72,
   "metadata": {},
   "outputs": [],
   "source": [
    "top_items2=sorted(freq_comm2.items(),key=operator.itemgetter(1),reverse=True)"
   ]
  },
  {
   "cell_type": "code",
   "execution_count": 62,
   "metadata": {},
   "outputs": [],
   "source": [
    "frequency_freq2=defaultdict(int)\n",
    "for item in top_items2:\n",
    "    frequency_freq2[item[1]]+=1"
   ]
  },
  {
   "cell_type": "code",
   "execution_count": 63,
   "metadata": {},
   "outputs": [
    {
     "data": {
      "image/png": "[encoded data removed]",
      "text/plain": [
       "<Figure size 1800x1080 with 1 Axes>"
      ]
     },
     "metadata": {},
     "output_type": "display_data"
    }
   ],
   "source": [
    "x = list(frequency_freq2.values())\n",
    "plt.figure(figsize=(25,15))\n",
    "ax = sns.countplot(x)\n",
    "ax.set_xticklabels(ax.get_xticklabels(),rotation=50)\n",
    "plt.show()"
   ]
  },
  {
   "cell_type": "code",
   "execution_count": 5,
   "metadata": {},
   "outputs": [],
   "source": [
    "freq_comm=defaultdict(int)\n",
    "for trans in transactions:\n",
    "    for item in trans:\n",
    "        freq_comm[item]+=1"
   ]
  },
  {
   "cell_type": "code",
   "execution_count": 10,
   "metadata": {},
   "outputs": [],
   "source": [
    "top_items=sorted(freq_comm.items(),key=operator.itemgetter(1),reverse=True)"
   ]
  },
  {
   "cell_type": "code",
   "execution_count": 13,
   "metadata": {},
   "outputs": [],
   "source": [
    "frequency_freq=defaultdict(int)"
   ]
  },
  {
   "cell_type": "code",
   "execution_count": 15,
   "metadata": {},
   "outputs": [],
   "source": [
    "for item in top_items:\n",
    "    frequency_freq[item[1]]+=1"
   ]
  },
  {
   "cell_type": "code",
   "execution_count": null,
   "metadata": {
    "scrolled": true
   },
   "outputs": [],
   "source": []
  },
  {
   "cell_type": "code",
   "execution_count": 25,
   "metadata": {},
   "outputs": [],
   "source": [
    "import seaborn as sns\n",
    "import matplotlib.pyplot as plt\n",
    "sns.set()"
   ]
  },
  {
   "cell_type": "code",
   "execution_count": 79,
   "metadata": {},
   "outputs": [
    {
     "data": {
      "text/plain": [
       "(array([    1,     2,     3,     4,     5,     6,     7,     8,     9,\n",
       "           10,    11,    12,    13,    14,    15,    16,    17,    18,\n",
       "           19,    20,    21,    22,    23,    24,    25,    26,    27,\n",
       "           28,    29,    30,    31,    32,    33,    34,    35,    36,\n",
       "           37,    38,    39,    40,    41,    42,    43,    44,    45,\n",
       "           46,    47,    48,    49,    50,    51,    52,    53,    54,\n",
       "           55,    56,    57,    58,    59,    60,    61,    62,    63,\n",
       "           64,    65,    66,    67,    68,    69,    70,    71,    72,\n",
       "           73,    74,    75,    76,    77,    78,    79,    80,    81,\n",
       "           82,    83,    84,    85,    86,    87,    88,    89,    90,\n",
       "           91,    92,    93,    94,    95,    96,    97,    98,    99,\n",
       "          100,   101,   102,   103,   104,   105,   106,   107,   108,\n",
       "          109,   110,   111,   112,   113,   114,   115,   116,   117,\n",
       "          118,   119,   120,   121,   122,   123,   124,   125,   126,\n",
       "          127,   128,   129,   130,   131,   132,   133,   134,   135,\n",
       "          136,   137,   138,   139,   140,   141,   142,   143,   144,\n",
       "          145,   146,   147,   148,   149,   150,   151,   152,   153,\n",
       "          154,   155,   156,   157,   158,   159,   160,   161,   162,\n",
       "          163,   164,   165,   166,   167,   168,   169,   170,   171,\n",
       "          172,   173,   174,   175,   176,   177,   178,   179,   180,\n",
       "          181,   182,   183,   184,   185,   186,   187,   188,   189,\n",
       "          190,   191,   192,   193,   194,   195,   196,   197,   198,\n",
       "          199,   200,   201,   202,   203,   204,   205,   206,   207,\n",
       "          208,   209,   210,   211,   212,   213,   214,   215,   216,\n",
       "          217,   218,   219,   220,   221,   222,   223,   224,   225,\n",
       "          226,   227,   228,   229,   230,   231,   232,   233,   234,\n",
       "          235,   236,   237,   238,   239,   240,   241,   242,   243,\n",
       "          244,   245,   246,   247,   248,   249,   250,   251,   252,\n",
       "          253,   254,   255,   256,   257,   258,   259,   260,   261,\n",
       "          262,   263,   264,   265,   266,   267,   268,   270,   271,\n",
       "          272,   273,   274,   275,   276,   277,   278,   279,   280,\n",
       "          281,   283,   284,   285,   286,   287,   288,   289,   290,\n",
       "          291,   292,   293,   294,   295,   296,   297,   298,   299,\n",
       "          300,   301,   302,   303,   304,   305,   306,   307,   309,\n",
       "          310,   311,   312,   314,   316,   317,   318,   319,   320,\n",
       "          321,   322,   324,   325,   327,   328,   329,   330,   332,\n",
       "          334,   335,   336,   337,   338,   339,   340,   341,   342,\n",
       "          343,   344,   345,   346,   347,   351,   352,   353,   354,\n",
       "          359,   361,   363,   365,   366,   369,   371,   372,   374,\n",
       "          375,   376,   379,   381,   382,   383,   387,   388,   390,\n",
       "          391,   392,   396,   399,   400,   401,   403,   404,   405,\n",
       "          407,   409,   410,   411,   412,   414,   415,   417,   418,\n",
       "          419,   420,   421,   422,   423,   425,   426,   427,   428,\n",
       "          430,   431,   432,   433,   435,   437,   438,   439,   442,\n",
       "          444,   445,   446,   448,   450,   453,   454,   459,   461,\n",
       "          462,   464,   465,   466,   467,   468,   472,   473,   476,\n",
       "          479,   481,   482,   488,   490,   494,   499,   501,   503,\n",
       "          507,   508,   509,   512,   513,   515,   516,   519,   521,\n",
       "          523,   524,   525,   526,   529,   535,   536,   540,   543,\n",
       "          546,   549,   551,   552,   569,   570,   571,   572,   574,\n",
       "          576,   584,   589,   590,   591,   595,   597,   599,   600,\n",
       "          601,   606,   609,   611,   614,   618,   621,   625,   626,\n",
       "          632,   633,   643,   648,   650,   654,   657,   660,   667,\n",
       "          669,   674,   677,   684,   688,   690,   691,   693,   695,\n",
       "          701,   704,   711,   712,   718,   720,   741,   742,   752,\n",
       "          753,   758,   765,   774,   782,   792,   797,   801,   806,\n",
       "          812,   817,   820,   821,   830,   831,   843,   851,   857,\n",
       "          860,   869,   874,   879,   882,   895,   904,   911,   920,\n",
       "          926,   950,   965,   970,   974,   987,   998,  1005,  1010,\n",
       "         1026,  1051,  1060,  1074,  1081,  1102,  1110,  1119,  1120,\n",
       "         1133,  1137,  1143,  1160,  1161,  1166,  1181,  1183,  1204,\n",
       "         1209,  1210,  1227,  1274,  1291,  1302,  1316,  1357,  1372,\n",
       "         1376,  1426,  1467,  1474,  1487,  1489,  1600,  1715,  1734,\n",
       "         1779,  1786,  1863,  1880,  2094,  2167,  2224,  2237,  2594,\n",
       "         2794,  2936,  3032,  3099,  3257,  3837,  4472, 14945, 15167,\n",
       "        15596, 42135, 50675]),\n",
       " array([221,  59,  41,  38,  22,  19,  21,  13,  11,   7,   7,   7,   5,\n",
       "          3,   4,   8,   3,   8,   5,   6,   1,   2,   4,   2,   2,   5,\n",
       "          2,   2,   3,   2,   2,   4,   2,   4,   2,   2,   2,   3,   4,\n",
       "          2,   2,   2,   1,   3,   1,   2,   1,   1,   3,   1,   2,   4,\n",
       "          2,   3,   1,   2,   1,   2,   1,   1,   4,   1,   2,   1,   1,\n",
       "          2,   1,   2,   2,   2,   1,   1,   2,   1,   1,   1,   3,   1,\n",
       "          1,   2,   2,   1,   2,   3,   2,   1,   1,   1,   1,   1,   1,\n",
       "          1,   1,   1,   1,   1,   1,   1,   1,   1,   1,   2,   1,   1,\n",
       "          2,   1,   1,   1,   1,   1,   1,   1,   1,   2,   1,   1,   2,\n",
       "          1,   1,   2,   1,   1,   1,   1,   1,   1,   1,   1,   1,   1,\n",
       "          1,   1,   1,   1,   3,   1,   1,   2,   1,   1,   1,   1,   2,\n",
       "          1,   1,   1,   2,   1,   1,   1,   1,   1,   1,   2,   1,   2,\n",
       "          1,   1,   1,   1,   1,   1,   1,   1,   1,   1,   1,   1,   1,\n",
       "          1,   1,   1,   1,   1,   1,   3,   1,   1,   1,   1,   1,   1,\n",
       "          1,   2,   1,   1,   2,   1,   1,   1,   1,   1,   1,   2,   1,\n",
       "          1,   1,   1,   1,   1,   1,   1,   1,   1,   1,   1,   1,   1,\n",
       "          1,   1,   1,   1,   1,   1,   1,   1,   1,   1,   1,   1,   1,\n",
       "          1,   1,   1,   1,   1,   1,   1,   1,   1,   1,   1,   1,   1,\n",
       "          1,   1,   1,   1,   1,   1,   1,   1,   1,   1,   1,   1,   1,\n",
       "          1,   1,   1,   1,   1,   1,   1,   1,   1,   1,   1,   1,   1,\n",
       "          2,   1,   2,   1,   1,   1,   1,   1,   1,   1,   1,   1,   1,\n",
       "          1,   1,   1,   1,   1,   1,   1,   1,   1,   1,   1,   1,   1,\n",
       "          1,   2,   1,   1,   1,   1,   1,   1,   1,   1,   1,   1,   1,\n",
       "          1,   1,   1,   1,   1,   1,   1,   1,   1,   1,   1,   1,   2,\n",
       "          1,   1,   1,   1,   1,   1,   1,   1,   1,   1,   1,   1,   1,\n",
       "          1,   1,   1,   1,   1,   1,   1,   1,   1,   1,   1,   1,   1,\n",
       "          1,   1,   1,   1,   1,   1,   1,   1,   1,   1,   1,   1,   1,\n",
       "          1,   1,   1,   2,   1,   1,   1,   1,   1,   1,   1,   1,   1,\n",
       "          1,   1,   1,   1,   1,   1,   1,   1,   1,   1,   1,   1,   1,\n",
       "          1,   1,   1,   1,   1,   1,   1,   1,   1,   1,   1,   1,   1,\n",
       "          1,   1,   1,   1,   1,   1,   1,   1,   1,   1,   1,   1,   1,\n",
       "          1,   1,   1,   1,   1,   1,   1,   1,   1,   1,   1,   1,   1,\n",
       "          1,   2,   1,   1,   1,   1,   1,   1,   1,   1,   1,   1,   1,\n",
       "          1,   1,   1,   1,   1,   1,   1,   1,   1,   1,   1,   1,   1,\n",
       "          1,   1,   1,   1,   1,   1,   1,   1,   1,   1,   1,   1,   1,\n",
       "          1,   1,   1,   1,   1,   1,   1,   1,   1,   1,   1,   1,   1,\n",
       "          1,   1,   1,   2,   1,   1,   1,   1,   1,   1,   1,   1,   1,\n",
       "          1,   1,   1,   1,   1,   1,   1,   1,   1,   1,   1,   1,   1,\n",
       "          1,   1,   1,   1,   1,   1,   1,   1,   1,   1,   1,   1,   2,\n",
       "          1,   1,   1,   1,   1,   1,   1,   1,   1,   1,   1,   1,   1,\n",
       "          1,   1,   1,   1,   1,   1,   1,   1,   1,   1,   1,   1,   1,\n",
       "          1,   1,   1,   1,   1,   1,   1,   1,   1,   1,   1,   1,   1,\n",
       "          1,   1,   1,   1,   1,   1,   1,   1,   1,   1,   1,   1,   1,\n",
       "          1,   1,   1,   1,   1,   1,   1,   1,   1,   1,   1,   1,   1,\n",
       "          1,   1,   1,   1,   1,   1,   1,   1,   1,   1,   1,   1,   1,\n",
       "          1,   1,   1], dtype=int64))"
      ]
     },
     "execution_count": 79,
     "metadata": {},
     "output_type": "execute_result"
    }
   ],
   "source": [
    "np.unique(list(frequency_freq.items()),return_counts=True)"
   ]
  },
  {
   "cell_type": "code",
   "execution_count": 32,
   "metadata": {
    "scrolled": false
   },
   "outputs": [
    {
     "data": {
      "image/png": "[encoded data removed]",
      "text/plain": [
       "<Figure size 1800x1080 with 1 Axes>"
      ]
     },
     "metadata": {},
     "output_type": "display_data"
    }
   ],
   "source": [
    "x = list(frequency_freq.values())\n",
    "plt.figure(figsize=(25,15))\n",
    "ax = sns.countplot(x)\n",
    "ax.set_xticklabels(ax.get_xticklabels(),rotation=50)\n",
    "plt.show()"
   ]
  },
  {
   "cell_type": "code",
   "execution_count": 83,
   "metadata": {},
   "outputs": [
    {
     "data": {
      "text/plain": [
       "583"
      ]
     },
     "execution_count": 83,
     "metadata": {},
     "output_type": "execute_result"
    }
   ],
   "source": [
    "len(list(frequency_freq.values()))"
   ]
  },
  {
   "cell_type": "code",
   "execution_count": null,
   "metadata": {},
   "outputs": [],
   "source": []
  },
  {
   "cell_type": "code",
   "execution_count": null,
   "metadata": {},
   "outputs": [],
   "source": []
  },
  {
   "cell_type": "code",
   "execution_count": 4,
   "metadata": {},
   "outputs": [],
   "source": [
    "import numpy as np\n",
    "from collections import defaultdict\n",
    "import pandas as pd\n",
    "from tqdm import tqdm\n",
    "import operator"
   ]
  },
  {
   "cell_type": "code",
   "execution_count": 5,
   "metadata": {},
   "outputs": [],
   "source": [
    "class improved_apriori:\n",
    "    def __init__(self):\n",
    "        self.one_item_frequency=defaultdict(int)\n",
    "        self.candidate_itemset_pairs=defaultdict(int)\n",
    "        self.candidate_itemset_triples=defaultdict(int)\n",
    "        \n",
    "        self.frequent_one_itemsets=defaultdict(int)\n",
    "        self.frequent_itemset_pairs=defaultdict(int)\n",
    "        self.frequent_itemset_triples=defaultdict(int)\n",
    "        \n",
    "        self.min_support=None\n",
    "        self.min_support_frequency=None\n",
    "        self.transactions=None\n",
    "        \n",
    "        self.final_frequent_itemsets=defaultdict(int)\n",
    "    \n",
    "    def merge_itemsets(self,*itemsets):\n",
    "        return str(sorted(itemsets))\n",
    "    \n",
    "    def create_pairsets(self,*itemsets):\n",
    "        pairs=[]\n",
    "        for index1 in range(len(itemsets)-1):\n",
    "            for index2 in range(index1+1,len(itemsets)):\n",
    "                pairs.append(self.merge_itemsets(itemsets[index1],itemsets[index2]))\n",
    "        return pairs\n",
    "    \n",
    "    def find_one_frequent_candidates(self):\n",
    "        for transaction in self.transactions:\n",
    "            for item in transaction:\n",
    "                self.one_item_frequency[item]+=1\n",
    "\n",
    "    def find_one_frequent_itemsets(self):\n",
    "        for item in self.one_item_frequency.keys():\n",
    "            if(self.one_item_frequency[item] >= self.min_support_frequency):\n",
    "                self.frequent_one_itemsets[item]=self.one_item_frequency[item]\n",
    "    \n",
    "    def find_two_frequent_candidates(self):\n",
    "        for transaction in tqdm(self.transactions):\n",
    "            for index1 in range(len(transaction)-1):\n",
    "                if(transaction[index1] not in self.frequent_one_itemsets):\n",
    "                    continue\n",
    "                for index2 in range(index1+1,len(transaction)):\n",
    "                    if(transaction[index2] not in self.frequent_one_itemsets):\n",
    "                        continue \n",
    "                    candidate_pair=self.merge_itemsets(transaction[index1],transaction[index2])\n",
    "                    self.candidate_itemset_pairs[candidate_pair]+=1\n",
    "                    \n",
    "    def find_two_frequent_itemsets(self):\n",
    "        for item_pair in self.candidate_itemset_pairs.keys():\n",
    "            if(self.candidate_itemset_pairs[item_pair] > self.min_support_frequency):\n",
    "                self.frequent_itemset_pairs[item_pair]=self.candidate_itemset_pairs[item_pair]\n",
    "    \n",
    "    def find_three_frequent_candidates(self):\n",
    "        for transaction in tqdm(self.transactions):\n",
    "            for index1 in range(len(transaction)-2):\n",
    "                if(transaction[index1] not in self.frequent_one_itemsets):\n",
    "                    continue\n",
    "                for index2 in range(index1+1,len(transaction)-1):\n",
    "                    if(transaction[index2] not in self.frequent_one_itemsets):\n",
    "                        continue \n",
    "                    pair1=self.merge_itemsets(transaction[index1],transaction[index2])\n",
    "                    if pair1 not in self.frequent_itemset_pairs:\n",
    "                        continue\n",
    "\n",
    "                    for index3 in range(index2+1,len(transaction)):\n",
    "                        if(transaction[index3] not in self.frequent_one_itemsets):\n",
    "                            continue\n",
    "\n",
    "                        all_pairs=self.create_pairsets(transaction[index1],\n",
    "                                                 transaction[index2],\n",
    "                                                 transaction[index3])\n",
    "                        for pair in all_pairs:\n",
    "                            if(pair not in self.frequent_itemset_pairs):\n",
    "                                continue\n",
    "                                \n",
    "                        itemset_triple=self.merge_itemsets(transaction[index1],\n",
    "                                                 transaction[index2],\n",
    "                                                 transaction[index3])\n",
    "\n",
    "                        self.candidate_itemset_triples[itemset_triple]+=1\n",
    "\n",
    "\n",
    "    def find_three_frequent_itemsets(self):\n",
    "        for itemset in self.candidate_itemset_triples.keys():\n",
    "            if(self.candidate_itemset_triples[itemset] > self.min_support_frequency):\n",
    "                self.frequent_itemset_triples[itemset]=self.candidate_itemset_triples[itemset]\n",
    "                \n",
    "    def find_final_frequent_itemsets(self):\n",
    "        \n",
    "        for itemset,freq in self.frequent_one_itemsets.items():\n",
    "            self.final_frequent_itemsets[itemset]=freq\n",
    "\n",
    "        for itemset,freq in self.frequent_itemset_pairs.items():\n",
    "            self.final_frequent_itemsets[itemset]=freq\n",
    "\n",
    "        for itemset,freq in self.frequent_itemset_triples.items():\n",
    "            self.final_frequent_itemsets[itemset]=freq\n",
    "            \n",
    "        final=sorted(self.final_frequent_itemsets.items(),key=operator.itemgetter(1))\n",
    "        return final\n",
    "        \n",
    "    def fit_transform(self,transaction,min_support=0.1):\n",
    "        self.transactions=transactions\n",
    "        self.min_support=min_support\n",
    "        self.min_support_frequency=self.min_support*len(self.transactions)\n",
    "        \n",
    "        self.find_one_frequent_candidates()\n",
    "        self.find_one_frequent_itemsets()\n",
    "        \n",
    "        self.find_two_frequent_candidates()\n",
    "        self.find_two_frequent_itemsets()\n",
    "        \n",
    "        self.find_three_frequent_candidates()\n",
    "        self.find_three_frequent_itemsets()\n",
    "        \n",
    "        final_results=self.find_final_frequent_itemsets()\n",
    "        \n",
    "        final_results=np.array(final_results)\n",
    "        \n",
    "        if(len(final_results)>0):\n",
    "            final_dict={'Itemset': final_results[:,0], 'Frequency' : final_results[:,1].astype('int32')}\n",
    "        \n",
    "            final_df=pd.DataFrame(final_dict)\n",
    "            return final_df\n",
    "        else:\n",
    "            return 'No Itemsets for given threshold'"
   ]
  },
  {
   "cell_type": "code",
   "execution_count": 6,
   "metadata": {},
   "outputs": [],
   "source": [
    "#Simple apriori for k=3\n",
    "def load_transaction(data_path,type_=None):\n",
    "        transactions=[]\n",
    "        with open(data_path,'r') as data_file:\n",
    "            for lines in tqdm(data_file):\n",
    "                if(type_==2):\n",
    "                    transactions_list=list(lines.strip('-2\\n').split('-1'))\n",
    "                else:\n",
    "                    transactions_list=list(lines.strip().split())\n",
    "                \n",
    "                transactions_list=[int(x) for x in transactions_list if x is not ' ']\n",
    "\n",
    "                transactions_list=list(np.unique(transactions_list))\n",
    "                transactions_list.sort()\n",
    "                transactions.append(transactions_list)\n",
    "\n",
    "        return transactions\n"
   ]
  },
  {
   "cell_type": "code",
   "execution_count": 7,
   "metadata": {},
   "outputs": [
    {
     "name": "stderr",
     "output_type": "stream",
     "text": [
      "77512it [00:00, 80913.17it/s]\n"
     ]
    }
   ],
   "source": [
    "transactions=load_transaction('bwv_data_2.txt',2)"
   ]
  },
  {
   "cell_type": "code",
   "execution_count": 38,
   "metadata": {},
   "outputs": [
    {
     "name": "stderr",
     "output_type": "stream",
     "text": [
      "100%|███████████████████████████████████████████████████████| 77512/77512 [00:00<00:00, 1156859.99it/s]\n",
      "100%|███████████████████████████████████████████████████████| 77512/77512 [00:00<00:00, 1191874.84it/s]\n"
     ]
    }
   ],
   "source": [
    "iap=improved_apriori()\n",
    "hash_res=iap.fit_transform(transactions,0.04)"
   ]
  },
  {
   "cell_type": "code",
   "execution_count": 40,
   "metadata": {},
   "outputs": [
    {
     "data": {
      "text/plain": [
       "array([[55323,  3417],\n",
       "       [55267,  3766]])"
      ]
     },
     "execution_count": 40,
     "metadata": {},
     "output_type": "execute_result"
    }
   ],
   "source": [
    "hash_results.values"
   ]
  },
  {
   "cell_type": "code",
   "execution_count": 10,
   "metadata": {},
   "outputs": [],
   "source": [
    "min_thresh=[0.001, 0.01, 0.05, 0.1, 0.5, 1]\n",
    "time_taken_hash=[]"
   ]
  },
  {
   "cell_type": "code",
   "execution_count": 11,
   "metadata": {},
   "outputs": [],
   "source": [
    "from time import time"
   ]
  },
  {
   "cell_type": "code",
   "execution_count": 12,
   "metadata": {},
   "outputs": [
    {
     "name": "stderr",
     "output_type": "stream",
     "text": [
      "  7%|████                                                      | 5442/77512 [00:00<00:01, 54419.66it/s]"
     ]
    },
    {
     "name": "stdout",
     "output_type": "stream",
     "text": [
      "0.001\n"
     ]
    },
    {
     "name": "stderr",
     "output_type": "stream",
     "text": [
      "100%|█████████████████████████████████████████████████████████| 77512/77512 [00:02<00:00, 30992.38it/s]\n",
      "100%|██████████████████████████████████████████████████████████| 77512/77512 [00:15<00:00, 4914.22it/s]\n",
      " 54%|██████████████████████████████▏                         | 41801/77512 [00:00<00:00, 214281.77it/s]"
     ]
    },
    {
     "name": "stdout",
     "output_type": "stream",
     "text": [
      "0.01\n"
     ]
    },
    {
     "name": "stderr",
     "output_type": "stream",
     "text": [
      "100%|████████████████████████████████████████████████████████| 77512/77512 [00:00<00:00, 215311.46it/s]\n",
      "100%|█████████████████████████████████████████████████████████| 77512/77512 [00:01<00:00, 71704.02it/s]\n",
      "100%|███████████████████████████████████████████████████████| 77512/77512 [00:00<00:00, 1192521.88it/s]\n",
      "100%|███████████████████████████████████████████████████████| 77512/77512 [00:00<00:00, 1230326.63it/s]\n"
     ]
    },
    {
     "name": "stdout",
     "output_type": "stream",
     "text": [
      "0.05\n",
      "0.1\n"
     ]
    },
    {
     "name": "stderr",
     "output_type": "stream",
     "text": [
      "100%|███████████████████████████████████████████████████████| 77512/77512 [00:00<00:00, 1313772.99it/s]\n",
      "100%|███████████████████████████████████████████████████████| 77512/77512 [00:00<00:00, 1336488.69it/s]\n",
      "100%|███████████████████████████████████████████████████████| 77512/77512 [00:00<00:00, 1174445.73it/s]\n",
      "100%|███████████████████████████████████████████████████████| 77512/77512 [00:00<00:00, 1123381.63it/s]"
     ]
    },
    {
     "name": "stdout",
     "output_type": "stream",
     "text": [
      "0.5\n"
     ]
    },
    {
     "name": "stderr",
     "output_type": "stream",
     "text": [
      "\n",
      "100%|███████████████████████████████████████████████████████| 77512/77512 [00:00<00:00, 1211136.08it/s]\n",
      "100%|███████████████████████████████████████████████████████| 77512/77512 [00:00<00:00, 1269867.32it/s]"
     ]
    },
    {
     "name": "stdout",
     "output_type": "stream",
     "text": [
      "1\n"
     ]
    },
    {
     "name": "stderr",
     "output_type": "stream",
     "text": [
      "\n"
     ]
    }
   ],
   "source": [
    "for thresh in min_thresh:\n",
    "    print(thresh)\n",
    "    iap=improved_apriori()\n",
    "    start=time()\n",
    "    iap.fit_transform(transactions,thresh)\n",
    "    end=time()\n",
    "    time_taken_hash.append(end-start)"
   ]
  },
  {
   "cell_type": "code",
   "execution_count": 13,
   "metadata": {},
   "outputs": [
    {
     "data": {
      "text/plain": [
       "[18.459999799728394,\n",
       " 1.5090014934539795,\n",
       " 0.19800019264221191,\n",
       " 0.18999862670898438,\n",
       " 0.2090005874633789,\n",
       " 0.2016148567199707]"
      ]
     },
     "execution_count": 13,
     "metadata": {},
     "output_type": "execute_result"
    }
   ],
   "source": [
    "time_taken_hash"
   ]
  },
  {
   "cell_type": "code",
   "execution_count": 14,
   "metadata": {},
   "outputs": [],
   "source": [
    "from itertools import combinations,chain\n",
    "from tqdm import tqdm\n",
    "import numpy as np\n",
    "from collections import defaultdict\n",
    "import pandas as pd\n",
    "\n",
    "class Apriori:\n",
    "    def __init__(self,min_support,min_confidence):\n",
    "        self.min_support=min_support\n",
    "        self.min_confidence=min_confidence\n",
    "        self.order=None\n",
    "        self.transactions=None\n",
    "        self.num_transactions=None\n",
    "        self.Candidates={}\n",
    "        self.Itemsets={}\n",
    "        self.Itemset_support_counts={}\n",
    "        self.Discarded_itemsets={}\n",
    "        self.order=None\n",
    "        self.frequent_itemsets={}\n",
    "        self.itemset_supports=[]\n",
    "        self.freq_itemsets=[]\n",
    "\n",
    "    \n",
    "    def count_itemset_occurance(self,itemsets,transactions):\n",
    "        count=0\n",
    "        for i in range(len(transactions)):\n",
    "            if set(itemsets).issubset(set(transactions[i])):\n",
    "                count+=1\n",
    "        return count\n",
    "    \n",
    "    def merge(self,itemset1,itemset2):\n",
    "        itemset1.sort(key=lambda val : self.order.index(val))\n",
    "        itemset2.sort(key=lambda val : self.order.index(val))\n",
    "    \n",
    "        for i in range(len(itemset1)-1):\n",
    "            if itemset1[i]!=itemset2[i]:\n",
    "                return []\n",
    "\n",
    "        if self.order.index(itemset1[-1]) < self.order.index(itemset2[-1]):\n",
    "            return itemset1+[itemset2[-1]]\n",
    "        return []\n",
    "    \n",
    "    def join_itemsets(self,set_of_itemsets):\n",
    "        Candidates=[]\n",
    "        for i in range(len(set_of_itemsets)):\n",
    "            for j in range(i+1,len(set_of_itemsets)):\n",
    "                itemsets_out=self.merge(set_of_itemsets[i],set_of_itemsets[j])\n",
    "                if len(itemsets_out)>0:\n",
    "                    Candidates.append(itemsets_out)\n",
    "        return Candidates\n",
    "    \n",
    "    def get_freuqent_itemsets(self,itemsets,transactions,minimum_support,previously_discarded):\n",
    "        supp_count=[]\n",
    "        new_discarded=[]\n",
    "        itemsets_list=list()\n",
    "        num_transactions=len(transactions)\n",
    "\n",
    "        k=len(previously_discarded)\n",
    "\n",
    "        for s in tqdm(range(len(itemsets))):\n",
    "            discarded_before=False\n",
    "\n",
    "            if(k > 0):\n",
    "                for item in previously_discarded[k]:\n",
    "                    if(set(item).issubset(set(itemsets[s]))):\n",
    "                        discarded_before=True\n",
    "                        break\n",
    "\n",
    "            if not discarded_before:\n",
    "                count=self.count_itemset_occurance(itemsets[s],transactions)\n",
    "                current_support=count/num_transactions\n",
    "                if current_support >=minimum_support:\n",
    "                    itemsets_list.append(itemsets[s])\n",
    "                    supp_count.append(count)\n",
    "                else:\n",
    "                    new_discarded.append(itemsets[s])\n",
    "\n",
    "        return itemsets_list,supp_count,new_discarded\n",
    "    \n",
    "    def get_order(self,transactions):\n",
    "        mx=-1\n",
    "        for t in transactions:\n",
    "            if mx < max(t):\n",
    "                mx=max(t)\n",
    "        return mx\n",
    "    \n",
    "    def print_table(self,T,supp_count):\n",
    "        print('Itemset | Frequency')\n",
    "        for k in range(len(T)):\n",
    "            print(f'{T[k]}  :  {supp_count[k]}')\n",
    "        print('\\n\\n')\n",
    "    \n",
    "    def update_tables(self,itemset_size,frequency,support_count,new_discarded): \n",
    "        self.Discarded_itemsets.update({itemset_size:new_discarded})\n",
    "        self.Itemsets.update({itemset_size:frequency})\n",
    "        self.Itemset_support_counts.update({itemset_size:support_count})\n",
    "\n",
    "    \n",
    "    def init(self,transactions):\n",
    "        self.order=[i for i in range(1,self.get_order(transactions)+1)]\n",
    "        itemset_size=1\n",
    "        \n",
    "        self.Discarded_itemsets={itemset_size:[]}\n",
    "        self.Candidates.update({itemset_size : [[f] for f in self.order]})\n",
    "        \n",
    "        frequency,support_count,new_discarded=self.get_freuqent_itemsets(self.Candidates[itemset_size],transactions,self.min_support,self.Discarded_itemsets)    \n",
    "        \n",
    "        self.update_tables(itemset_size,frequency,support_count,new_discarded)\n",
    "        \n",
    "        \n",
    "    def powerset(self,s):\n",
    "        return list(chain.from_iterable(combinations(s,r) for r in range(1,len(s)+1)))\n",
    "    \n",
    "    def generate_itemset_frequency(self,verbose):\n",
    "        k=2\n",
    "        convergence=False\n",
    "\n",
    "        while convergence==False:\n",
    "            self.Candidates.update({k : self.join_itemsets(self.Itemsets[k-1])})\n",
    "            \n",
    "            if(verbose==1):\n",
    "                print(f'Table Candidates {k} \\n ')\n",
    "                self.print_table(self.Candidates[k],[self.count_itemset_occurance(it,self.transactions) for it in self.Candidates[k]])\n",
    "            \n",
    "            frequency,support_count,new_discarded=self.get_freuqent_itemsets(self.Candidates[k],self.transactions,self.min_support,self.Discarded_itemsets)\n",
    "            \n",
    "            self.update_tables(k,frequency,support_count,new_discarded)\n",
    "\n",
    "            if len(self.Itemsets[k])==0:\n",
    "                convergence=True\n",
    "            else:\n",
    "                print(f'Table Itemsets {k} \\n ')\n",
    "                self.print_table(self.Itemsets[k],self.Itemset_support_counts[k])\n",
    "\n",
    "            k+=1\n",
    "    \n",
    "    def create_rule_set(self,itemset,rule_rhs,rule_lhs,confidence,itemset_support):\n",
    "        self.freq_itemsets.append(str(itemset))\n",
    "        self.itemset_supports.append(float(itemset_support/self.num_transactions))\n",
    "    \n",
    "    \n",
    "    def generate_association_rules(self):\n",
    "        association_rules=\"\"\n",
    "        for i in range(1,len(self.Itemsets)):\n",
    "            for j in range(len(self.Itemsets[i])):\n",
    "                s = self.powerset(set(self.Itemsets[i][j]))\n",
    "                \n",
    "                s.pop()#remove subset with all the items\n",
    "                for z in s:\n",
    "                    S = set(z)\n",
    "                    X=set(self.Itemsets[i][j])\n",
    "                    X_S=set(X-S)\n",
    "\n",
    "                    support_x=self.count_itemset_occurance(X,self.transactions)\n",
    "                    support_x_s=self.count_itemset_occurance(X_S,self.transactions)\n",
    "\n",
    "                    confidence=support_x / support_x_s\n",
    "\n",
    "                    if support_x >= self.min_support and confidence >= self.min_confidence:\n",
    "                        self.create_rule_set(X,X_S,S,confidence,support_x)\n",
    "\n",
    "    \n",
    "    def fit_transform(self,transactions,verbose=0):\n",
    "        self.transactions=transactions\n",
    "        self.num_transactions=len(self.transactions)    \n",
    "        \n",
    "        self.init(self.transactions)\n",
    "        \n",
    "        if(verbose==1):\n",
    "            self.print_table(self.Itemsets[1],self.Itemset_support_counts[1])\n",
    "    \n",
    "        \n",
    "        self.generate_itemset_frequency(verbose)\n",
    "        \n",
    "        self.generate_association_rules()\n",
    "        \n",
    "        self.frequent_itemsets={'Itemset':self.freq_itemsets,'Support':self.itemset_supports}\n",
    "        return pd.DataFrame(self.frequent_itemsets).drop_duplicates()"
   ]
  },
  {
   "cell_type": "code",
   "execution_count": 20,
   "metadata": {},
   "outputs": [],
   "source": [
    "ap=Apriori(min_support=0.5,min_confidence=0.5)\n",
    "results=ap.fit_transform(transactions,verbose=1)"
   ]
  },
  {
   "cell_type": "code",
   "execution_count": 64,
   "metadata": {},
   "outputs": [
    {
     "data": {
      "text/html": [
       "<div>\n",
       "<style scoped>\n",
       "    .dataframe tbody tr th:only-of-type {\n",
       "        vertical-align: middle;\n",
       "    }\n",
       "\n",
       "    .dataframe tbody tr th {\n",
       "        vertical-align: top;\n",
       "    }\n",
       "\n",
       "    .dataframe thead th {\n",
       "        text-align: right;\n",
       "    }\n",
       "</style>\n",
       "<table border=\"1\" class=\"dataframe\">\n",
       "  <thead>\n",
       "    <tr style=\"text-align: right;\">\n",
       "      <th></th>\n",
       "      <th>Itemset</th>\n",
       "      <th>Support</th>\n",
       "    </tr>\n",
       "  </thead>\n",
       "  <tbody>\n",
       "    <tr>\n",
       "      <th>0</th>\n",
       "      <td>{40, 33}</td>\n",
       "      <td>0.095903</td>\n",
       "    </tr>\n",
       "    <tr>\n",
       "      <th>2</th>\n",
       "      <td>{33, 49}</td>\n",
       "      <td>0.091128</td>\n",
       "    </tr>\n",
       "    <tr>\n",
       "      <th>4</th>\n",
       "      <td>{40, 39}</td>\n",
       "      <td>0.117341</td>\n",
       "    </tr>\n",
       "    <tr>\n",
       "      <th>6</th>\n",
       "      <td>{49, 39}</td>\n",
       "      <td>0.090107</td>\n",
       "    </tr>\n",
       "    <tr>\n",
       "      <th>8</th>\n",
       "      <td>{40, 42}</td>\n",
       "      <td>0.129466</td>\n",
       "    </tr>\n",
       "    <tr>\n",
       "      <th>10</th>\n",
       "      <td>{40, 49}</td>\n",
       "      <td>0.330551</td>\n",
       "    </tr>\n",
       "    <tr>\n",
       "      <th>12</th>\n",
       "      <td>{49, 42}</td>\n",
       "      <td>0.102289</td>\n",
       "    </tr>\n",
       "    <tr>\n",
       "      <th>14</th>\n",
       "      <td>{40, 33, 49}</td>\n",
       "      <td>0.061274</td>\n",
       "    </tr>\n",
       "    <tr>\n",
       "      <th>20</th>\n",
       "      <td>{40, 49, 39}</td>\n",
       "      <td>0.069213</td>\n",
       "    </tr>\n",
       "    <tr>\n",
       "      <th>26</th>\n",
       "      <td>{40, 49, 42}</td>\n",
       "      <td>0.083551</td>\n",
       "    </tr>\n",
       "  </tbody>\n",
       "</table>\n",
       "</div>"
      ],
      "text/plain": [
       "         Itemset   Support\n",
       "0       {40, 33}  0.095903\n",
       "2       {33, 49}  0.091128\n",
       "4       {40, 39}  0.117341\n",
       "6       {49, 39}  0.090107\n",
       "8       {40, 42}  0.129466\n",
       "10      {40, 49}  0.330551\n",
       "12      {49, 42}  0.102289\n",
       "14  {40, 33, 49}  0.061274\n",
       "20  {40, 49, 39}  0.069213\n",
       "26  {40, 49, 42}  0.083551"
      ]
     },
     "execution_count": 64,
     "metadata": {},
     "output_type": "execute_result"
    }
   ],
   "source": [
    "results"
   ]
  },
  {
   "cell_type": "code",
   "execution_count": 14,
   "metadata": {},
   "outputs": [],
   "source": [
    "min_thresh=[0.001, 0.01, 0.05, 0.1, 0.5, 1]\n",
    "time_taken_redc=[]"
   ]
  },
  {
   "cell_type": "code",
   "execution_count": 15,
   "metadata": {
    "scrolled": true
   },
   "outputs": [
    {
     "name": "stderr",
     "output_type": "stream",
     "text": [
      "  0%|                                                                                | 2/16470 [00:00<20:35, 13.33it/s]"
     ]
    },
    {
     "name": "stdout",
     "output_type": "stream",
     "text": [
      "0.01\n"
     ]
    },
    {
     "name": "stderr",
     "output_type": "stream",
     "text": [
      "100%|████████████████████████████████████████████████████████████████████████████| 16470/16470 [21:39<00:00, 12.67it/s]\n",
      "100%|██████████████████████████████████████████████████████████████████████████████| 2415/2415 [03:23<00:00, 11.88it/s]\n",
      "  0%|                                                                                          | 0/454 [00:00<?, ?it/s]"
     ]
    },
    {
     "name": "stdout",
     "output_type": "stream",
     "text": [
      "Table Itemsets 2 \n",
      " \n",
      "Itemset | Frequency\n",
      "[33, 39]  :  2833\n",
      "[33, 40]  :  8455\n",
      "[33, 42]  :  3196\n",
      "[33, 49]  :  8034\n",
      "[37, 39]  :  2790\n",
      "[37, 40]  :  2037\n",
      "[37, 49]  :  1416\n",
      "[38, 39]  :  1046\n",
      "[39, 40]  :  10345\n",
      "[39, 42]  :  3897\n",
      "[39, 49]  :  7944\n",
      "[39, 111]  :  2725\n",
      "[39, 171]  :  3031\n",
      "[39, 287]  :  1116\n",
      "[40, 42]  :  11414\n",
      "[40, 49]  :  29142\n",
      "[40, 61]  :  983\n",
      "[40, 66]  :  2787\n",
      "[40, 80]  :  1111\n",
      "[40, 90]  :  2749\n",
      "[40, 102]  :  1400\n",
      "[40, 111]  :  1759\n",
      "[40, 148]  :  1137\n",
      "[40, 171]  :  2059\n",
      "[40, 226]  :  2351\n",
      "[40, 238]  :  1929\n",
      "[40, 256]  :  1057\n",
      "[40, 271]  :  1194\n",
      "[40, 272]  :  1434\n",
      "[40, 311]  :  1852\n",
      "[40, 414]  :  1130\n",
      "[40, 439]  :  1260\n",
      "[40, 476]  :  1500\n",
      "[40, 534]  :  922\n",
      "[40, 1147]  :  983\n",
      "[40, 1328]  :  1156\n",
      "[40, 2239]  :  1287\n",
      "[40, 12926]  :  938\n",
      "[42, 49]  :  9018\n",
      "[42, 66]  :  995\n",
      "[49, 66]  :  2529\n",
      "[49, 80]  :  893\n",
      "[49, 90]  :  2798\n",
      "[49, 102]  :  1311\n",
      "[49, 111]  :  1380\n",
      "[49, 148]  :  1036\n",
      "[49, 171]  :  1557\n",
      "[49, 226]  :  1736\n",
      "[49, 238]  :  1682\n",
      "[49, 256]  :  1057\n",
      "[49, 271]  :  957\n",
      "[49, 272]  :  1090\n",
      "[49, 311]  :  1692\n",
      "[49, 414]  :  1135\n",
      "[49, 439]  :  1025\n",
      "[49, 476]  :  1428\n",
      "[49, 1328]  :  968\n",
      "[49, 2239]  :  955\n",
      "\n",
      "\n",
      "\n"
     ]
    },
    {
     "name": "stderr",
     "output_type": "stream",
     "text": [
      "100%|███████████████████████████████████████████████████████████████████████████████| 454/454 [00:03<00:00, 125.35it/s]\n",
      "  4%|███▌                                                                               | 2/46 [00:00<00:03, 11.05it/s]"
     ]
    },
    {
     "name": "stdout",
     "output_type": "stream",
     "text": [
      "Table Itemsets 3 \n",
      " \n",
      "Itemset | Frequency\n",
      "[33, 39, 40]  :  1840\n",
      "[33, 39, 49]  :  1646\n",
      "[33, 40, 42]  :  2359\n",
      "[33, 40, 49]  :  5402\n",
      "[33, 42, 49]  :  2063\n",
      "[37, 39, 40]  :  1945\n",
      "[37, 39, 49]  :  1360\n",
      "[37, 40, 49]  :  1116\n",
      "[39, 40, 42]  :  3051\n",
      "[39, 40, 49]  :  6102\n",
      "[39, 40, 111]  :  1740\n",
      "[39, 40, 171]  :  2019\n",
      "[39, 42, 49]  :  2374\n",
      "[39, 49, 111]  :  1361\n",
      "[39, 49, 171]  :  1538\n",
      "[40, 42, 49]  :  7366\n",
      "[40, 49, 66]  :  1797\n",
      "[40, 49, 90]  :  2125\n",
      "[40, 49, 102]  :  946\n",
      "[40, 49, 111]  :  1037\n",
      "[40, 49, 171]  :  1206\n",
      "[40, 49, 226]  :  1400\n",
      "[40, 49, 238]  :  1244\n",
      "[40, 49, 311]  :  1347\n",
      "[40, 49, 476]  :  1092\n",
      "\n",
      "\n",
      "\n"
     ]
    },
    {
     "name": "stderr",
     "output_type": "stream",
     "text": [
      "100%|██████████████████████████████████████████████████████████████████████████████████| 46/46 [00:04<00:00, 10.62it/s]\n",
      "100%|███████████████████████████████████████████████████████████████████████████████████| 1/1 [00:00<00:00, 999.83it/s]\n"
     ]
    },
    {
     "name": "stdout",
     "output_type": "stream",
     "text": [
      "Table Itemsets 4 \n",
      " \n",
      "Itemset | Frequency\n",
      "[33, 39, 40, 49]  :  1236\n",
      "[33, 40, 42, 49]  :  1646\n",
      "[37, 39, 40, 49]  :  1080\n",
      "[39, 40, 42, 49]  :  1991\n",
      "[39, 40, 49, 111]  :  1031\n",
      "[39, 40, 49, 171]  :  1193\n",
      "\n",
      "\n",
      "\n"
     ]
    },
    {
     "name": "stderr",
     "output_type": "stream",
     "text": [
      "  0%|                                                                                | 2/16470 [00:00<20:26, 13.43it/s]"
     ]
    },
    {
     "name": "stdout",
     "output_type": "stream",
     "text": [
      "0.05\n"
     ]
    },
    {
     "name": "stderr",
     "output_type": "stream",
     "text": [
      "100%|████████████████████████████████████████████████████████████████████████████| 16470/16470 [21:36<00:00, 12.71it/s]\n",
      "100%|██████████████████████████████████████████████████████████████████████████████████| 15/15 [00:01<00:00, 10.92it/s]\n",
      " 67%|████████████████████████████████████████████████████████                            | 2/3 [00:00<00:00, 11.05it/s]"
     ]
    },
    {
     "name": "stdout",
     "output_type": "stream",
     "text": [
      "Table Itemsets 2 \n",
      " \n",
      "Itemset | Frequency\n",
      "[33, 40]  :  8455\n",
      "[33, 49]  :  8034\n",
      "[39, 40]  :  10345\n",
      "[39, 49]  :  7944\n",
      "[40, 42]  :  11414\n",
      "[40, 49]  :  29142\n",
      "[42, 49]  :  9018\n",
      "\n",
      "\n",
      "\n"
     ]
    },
    {
     "name": "stderr",
     "output_type": "stream",
     "text": [
      "100%|████████████████████████████████████████████████████████████████████████████████████| 3/3 [00:00<00:00, 10.87it/s]\n",
      "0it [00:00, ?it/s]\n"
     ]
    },
    {
     "name": "stdout",
     "output_type": "stream",
     "text": [
      "Table Itemsets 3 \n",
      " \n",
      "Itemset | Frequency\n",
      "[33, 40, 49]  :  5402\n",
      "[39, 40, 49]  :  6102\n",
      "[40, 42, 49]  :  7366\n",
      "\n",
      "\n",
      "\n"
     ]
    },
    {
     "name": "stderr",
     "output_type": "stream",
     "text": [
      "  0%|                                                                                | 2/16470 [00:00<20:51, 13.16it/s]"
     ]
    },
    {
     "name": "stdout",
     "output_type": "stream",
     "text": [
      "0.1\n"
     ]
    },
    {
     "name": "stderr",
     "output_type": "stream",
     "text": [
      "100%|████████████████████████████████████████████████████████████████████████████| 16470/16470 [21:39<00:00, 12.68it/s]\n",
      "100%|██████████████████████████████████████████████████████████████████████████████████| 10/10 [00:00<00:00, 10.79it/s]\n",
      "100%|████████████████████████████████████████████████████████████████████████████████████| 1/1 [00:00<00:00, 10.75it/s]\n"
     ]
    },
    {
     "name": "stdout",
     "output_type": "stream",
     "text": [
      "Table Itemsets 2 \n",
      " \n",
      "Itemset | Frequency\n",
      "[39, 40]  :  10345\n",
      "[40, 42]  :  11414\n",
      "[40, 49]  :  29142\n",
      "[42, 49]  :  9018\n",
      "\n",
      "\n",
      "\n"
     ]
    },
    {
     "name": "stderr",
     "output_type": "stream",
     "text": [
      "  0%|                                                                                | 2/16470 [00:00<20:18, 13.51it/s]"
     ]
    },
    {
     "name": "stdout",
     "output_type": "stream",
     "text": [
      "0.5\n"
     ]
    },
    {
     "name": "stderr",
     "output_type": "stream",
     "text": [
      "100%|████████████████████████████████████████████████████████████████████████████| 16470/16470 [21:35<00:00, 12.72it/s]\n",
      "0it [00:00, ?it/s]\n",
      "  0%|                                                                                | 2/16470 [00:00<21:49, 12.57it/s]"
     ]
    },
    {
     "name": "stdout",
     "output_type": "stream",
     "text": [
      "0.95\n"
     ]
    },
    {
     "name": "stderr",
     "output_type": "stream",
     "text": [
      "100%|████████████████████████████████████████████████████████████████████████████| 16470/16470 [23:13<00:00, 11.82it/s]\n",
      "0it [00:00, ?it/s]\n",
      "  0%|                                                                                        | 0/16470 [00:00<?, ?it/s]"
     ]
    },
    {
     "name": "stdout",
     "output_type": "stream",
     "text": [
      "1\n"
     ]
    },
    {
     "name": "stderr",
     "output_type": "stream",
     "text": [
      "100%|████████████████████████████████████████████████████████████████████████████| 16470/16470 [22:35<00:00, 12.15it/s]\n",
      "0it [00:00, ?it/s]\n"
     ]
    }
   ],
   "source": [
    "from time import time\n",
    "for thresh in min_thresh:\n",
    "    print(thresh)\n",
    "    ap=Apriori(min_support=thresh,min_confidence=thresh)\n",
    "    start=time()\n",
    "    results=ap.fit_transform(transactions,verbose=0)\n",
    "    end=time()\n",
    "    time_taken_redc.append(end-start)"
   ]
  },
  {
   "cell_type": "code",
   "execution_count": 16,
   "metadata": {},
   "outputs": [
    {
     "data": {
      "text/plain": [
       "[1565.9829444885254,\n",
       " 1303.314747095108,\n",
       " 1301.520039319992,\n",
       " 1295.3402712345123,\n",
       " 1394.3389348983765,\n",
       " 1355.2216165065765]"
      ]
     },
     "execution_count": 16,
     "metadata": {},
     "output_type": "execute_result"
    }
   ],
   "source": [
    "time_taken_redc"
   ]
  },
  {
   "cell_type": "code",
   "execution_count": 24,
   "metadata": {},
   "outputs": [
    {
     "data": {
      "text/plain": [
       "[<matplotlib.lines.Line2D at 0x231bc493608>]"
      ]
     },
     "execution_count": 24,
     "metadata": {},
     "output_type": "execute_result"
    },
    {
     "data": {
      "image/png": "[encoded data removed]",
      "text/plain": [
       "<Figure size 432x288 with 1 Axes>"
      ]
     },
     "metadata": {
      "needs_background": "light"
     },
     "output_type": "display_data"
    }
   ],
   "source": [
    "import matplotlib.pyplot as plt \n",
    "plt.plot(min_thresh,time_taken_hash)"
   ]
  },
  {
   "cell_type": "code",
   "execution_count": null,
   "metadata": {},
   "outputs": [],
   "source": []
  },
  {
   "cell_type": "code",
   "execution_count": 54,
   "metadata": {},
   "outputs": [],
   "source": [
    "new_redc=[]\n",
    "new_redc.append(1590)\n",
    "for it in time_taken_redc:\n",
    "    new_redc.append(it)\n",
    "    \n",
    "\n",
    "new_redc2=[]\n",
    "for i in new_redc:\n",
    "    new_redc2.append(i-1280)"
   ]
  },
  {
   "cell_type": "code",
   "execution_count": 58,
   "metadata": {},
   "outputs": [],
   "source": [
    "library_apriori=[\n",
    "180.13214123\n",
    ",9.579008102416992,\n",
    "1.577028512954712,\n",
    " 1.5900359153747559,\n",
    " 1.6019604206085205,\n",
    " 1.5640337467193604,\n",
    " 1.5869648456573486]"
   ]
  },
  {
   "cell_type": "code",
   "execution_count": 60,
   "metadata": {},
   "outputs": [
    {
     "data": {
      "image/png": "[encoded data removed]",
      "text/plain": [
       "<Figure size 432x288 with 1 Axes>"
      ]
     },
     "metadata": {
      "needs_background": "light"
     },
     "output_type": "display_data"
    }
   ],
   "source": [
    "import matplotlib.pyplot as plt\n",
    "plt.plot(min_thresh,time_taken_hash,label='hash based')\n",
    "plt.scatter(min_thresh,time_taken_hash)\n",
    "\n",
    "plt.plot(min_thresh,new_redc2,label='transaction reduction')\n",
    "plt.scatter(min_thresh,new_redc2)\n",
    "\n",
    "\n",
    "plt.plot(min_thresh,library_apriori,label='Library implementation')\n",
    "plt.scatter(min_thresh,library_apriori)\n",
    "\n",
    "plt.legend(loc=\"upper right\")\n",
    "plt.show()"
   ]
  }
 ],
 "metadata": {
  "kernelspec": {
   "display_name": "Python 3",
   "language": "python",
   "name": "python3"
  },
  "language_info": {
   "codemirror_mode": {
    "name": "ipython",
    "version": 3
   },
   "file_extension": ".py",
   "mimetype": "text/x-python",
   "name": "python",
   "nbconvert_exporter": "python",
   "pygments_lexer": "ipython3",
   "version": "3.7.7"
  }
 },
 "nbformat": 4,
 "nbformat_minor": 4
}
