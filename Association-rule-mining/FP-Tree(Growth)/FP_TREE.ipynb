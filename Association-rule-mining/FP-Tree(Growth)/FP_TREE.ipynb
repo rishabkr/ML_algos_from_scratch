{
 "cells": [
  {
   "cell_type": "code",
   "execution_count": 1,
   "metadata": {},
   "outputs": [],
   "source": [
    "import numpy as np\n",
    "from collections import defaultdict\n",
    "from tqdm import tqdm\n",
    "import operator"
   ]
  },
  {
   "cell_type": "code",
   "execution_count": 2,
   "metadata": {},
   "outputs": [],
   "source": [
    "class fp_tree_node:\n",
    "    def __init__(self,item_name,frequency,parent):\n",
    "        self.parent=parent\n",
    "        self.item_name=item_name\n",
    "        self.frequency=frequency\n",
    "        self.child_node=defaultdict()\n",
    "        self.next_node=None\n",
    "        \n",
    "    def update_item_frequency(self,frequency):\n",
    "        self.frequency+=frequency\n",
    "        \n",
    "    def display_fp_tree(self,index=1):\n",
    "        print('  '*index + f' Item : {self.item_name}  Frequency: {self.frequency}  Parent : {self.parent}')\n",
    "        for names,child in self.child_node.items():\n",
    "            child.display_fp_tree(index+1)"
   ]
  },
  {
   "cell_type": "code",
   "execution_count": 3,
   "metadata": {},
   "outputs": [],
   "source": [
    "class build_fp_tree:\n",
    "    def __init__(self,transactions,min_support_count):\n",
    "        self.transactions=transactions\n",
    "        self.min_support=min_support_count\n",
    "        self.header_table=defaultdict()\n",
    "        self.fp_root=None\n",
    "    \n",
    "    def is_frequent(self,frequency):\n",
    "        if(frequency < self.min_support):\n",
    "            return False\n",
    "        else:\n",
    "            return True\n",
    "    \n",
    "    \n",
    "    def get_frequent_itemsets(self):\n",
    "        return set(self.header_table.keys())\n",
    "    \n",
    "    \n",
    "    def display_header_table(self):\n",
    "        print(self.header_table.items())\n",
    "    \n",
    "    \n",
    "    def get_ordered_itemsets(self,itemsets):\n",
    "        sorted_items=sorted(itemsets.items(), key=operator.itemgetter(1), reverse=True)\n",
    "        items=[item[0] for item in sorted_items]\n",
    "        return items\n",
    "    \n",
    "    def update_fp_tree(self,tree_node,ordered_items,occurance_cnt):\n",
    "        if ordered_items[0] in tree_node.child_node:\n",
    "            tree_node.child_node[ordered_items[0]].update_item_frequency(occurance_cnt)\n",
    "        else:\n",
    "            \n",
    "            tree_node.child_node[ordered_items[0]]=fp_tree_node(ordered_items[0],occurance_cnt,tree_node)\n",
    "            \n",
    "            if not self.header_table[ordered_items[0]][1]:\n",
    "                self.header_table[ordered_items[0]][1]=tree_node.child_node[ordered_items[0]]\n",
    "            else:\n",
    "                #update headertable\n",
    "                target_node=tree_node.child_node[ordered_items[0]]\n",
    "                start_node=self.header_table[ordered_items[0]][1]\n",
    "                \n",
    "                while(start_node.next_node != None):\n",
    "                    start_node=start_node.next_node\n",
    "                start_node.next_node=target_node\n",
    "        \n",
    "        if(len(ordered_items)>1):\n",
    "            self.update_fp_tree(tree_node.child_node[ordered_items[0]],ordered_items[1::],occurance_cnt)\n",
    "    \n",
    "    def remove_infrequent_items(self):\n",
    "        for item in list(self.header_table.keys()):\n",
    "            if(self.header_table[item] < self.min_support):\n",
    "                del self.header_table[item]\n",
    "   \n",
    "\n",
    "    def create_tree(self):\n",
    "        for transaction in self.transactions:\n",
    "            for item in transaction:\n",
    "                self.header_table[item]=self.header_table.get(item,0) + self.transactions[transaction]\n",
    "        \n",
    "        self.remove_infrequent_items()\n",
    "        \n",
    "        frequent_items=self.get_frequent_itemsets()\n",
    "        if(len(frequent_items)==0):\n",
    "            return None,None\n",
    "        \n",
    "        for keys in self.header_table:\n",
    "            self.header_table[keys]= [self.header_table[keys],None]\n",
    "        \n",
    "        self.fp_root=fp_tree_node('Φ',1,None)\n",
    "        \n",
    "        for transaction,transaction_occurances in self.transactions.items():\n",
    "            temp_transactions=defaultdict()\n",
    "            \n",
    "            for item in transaction:\n",
    "                if item in frequent_items:\n",
    "                    temp_transactions[item]=self.header_table[item][0]\n",
    "            \n",
    "            if len(temp_transactions)>0:\n",
    "                ordered_items=self.get_ordered_itemsets(temp_transactions)\n",
    "                self.update_fp_tree(self.fp_root,ordered_items,transaction_occurances)\n",
    "        return self.fp_root,self.header_table\n",
    "    "
   ]
  },
  {
   "cell_type": "code",
   "execution_count": 4,
   "metadata": {},
   "outputs": [],
   "source": [
    "class MineFPTree:\n",
    "    def __init__(self,min_support):\n",
    "        self.min_support=min_support\n",
    "        self.frequent_itemset_list=list()\n",
    "        \n",
    "    def get_ordered_itemsets(self,itemsets):\n",
    "        if(itemsets is not None):\n",
    "            sorted_items=sorted(itemsets,key=lambda key : itemsets[key][0],reverse=True)\n",
    "        else:\n",
    "            return []\n",
    "        if len(sorted_items)>0:\n",
    "            return sorted_items\n",
    "        else:\n",
    "            return []\n",
    "        #return [v[0] for v in sorted(itemsets.items(), key=lambda p: p[1][0])]\n",
    "    \n",
    "    def find_root(self,first_node,suffix_path):\n",
    "        if(first_node.parent is not None):\n",
    "            \n",
    "            suffix_path.append(first_node.item_name)\n",
    "            \n",
    "            self.find_root(first_node.parent,suffix_path)\n",
    "    \n",
    "    def find_suffix_path(self,item_name,node):\n",
    "\n",
    "        conditional_patterns={}\n",
    "        \n",
    "        while(node is not None):\n",
    "            suffix_path=list()\n",
    "            self.find_root(node,suffix_path)\n",
    "            \n",
    "            if(len(suffix_path)>1):\n",
    "                conditional_patterns[frozenset(suffix_path[1:])]=node.frequency\n",
    "            node=node.next_node\n",
    "        return conditional_patterns\n",
    "    \n",
    "    def find_frequent_itemsets(self,start_node,header_tab,suffix_set):\n",
    "       \n",
    "        sorted_items=self.get_ordered_itemsets(header_tab)\n",
    "        for base in sorted_items:\n",
    "            temp_frequent_set=suffix_set.copy()\n",
    "            temp_frequent_set.add(base)\n",
    "            \n",
    "            self.frequent_itemset_list.append(temp_frequent_set)\n",
    "            \n",
    "            conditional_base=self.find_suffix_path(base,header_tab[base][1])\n",
    "            \n",
    "            fp_tree_obj=build_fp_tree(conditional_base,self.min_support)\n",
    "            \n",
    "            temp_tree,temp_header_table=fp_tree_obj.create_tree()\n",
    "  \n",
    "            if(temp_header_table is not None):\n",
    "                self.find_frequent_itemsets(temp_tree,temp_header_table,temp_frequent_set)"
   ]
  },
  {
   "cell_type": "code",
   "execution_count": 8,
   "metadata": {},
   "outputs": [],
   "source": [
    "def load_transaction(data_path,type_=None):\n",
    "        transactions=[]\n",
    "        with open(data_path,'r') as data_file:\n",
    "            for lines in tqdm(data_file):\n",
    "                if(type_==2):\n",
    "                    transactions_list=list(lines.strip('-2\\n').split('-1'))\n",
    "                else:\n",
    "                    transactions_list=list(lines.strip().split())\n",
    "                \n",
    "                transactions_list=[int(x) for x in transactions_list if x is not ' ']\n",
    "\n",
    "                transactions_list=list(np.unique(transactions_list))\n",
    "                transactions_list.sort()\n",
    "                transactions.append(transactions_list)\n",
    "    \n",
    "        transactions_dict=defaultdict()\n",
    "        for transaction in transactions:\n",
    "            transactions_dict[frozenset(transaction)]=1\n",
    "        return transactions_dict"
   ]
  },
  {
   "cell_type": "code",
   "execution_count": 9,
   "metadata": {},
   "outputs": [
    {
     "name": "stderr",
     "output_type": "stream",
     "text": [
      "77512it [00:00, 82369.25it/s]\n"
     ]
    }
   ],
   "source": [
    "transaction_dict=load_transaction('bwv_data_2.txt',2)"
   ]
  },
  {
   "cell_type": "code",
   "execution_count": 20,
   "metadata": {},
   "outputs": [],
   "source": [
    "thresh=0.06\n",
    "fp_tree_object=build_fp_tree(transaction_dict,len(transaction_dict)*thresh)\n",
    "fp_tree_root,header_table=fp_tree_object.create_tree()"
   ]
  },
  {
   "cell_type": "code",
   "execution_count": 19,
   "metadata": {},
   "outputs": [
    {
     "data": {
      "text/plain": [
       "[{55267}, {55323}]"
      ]
     },
     "execution_count": 19,
     "metadata": {},
     "output_type": "execute_result"
    }
   ],
   "source": [
    "mine_tree=MineFPTree(len(transaction_dict)*thresh)\n",
    "mine_tree.find_frequent_itemsets(fp_tree_root,header_table,set([]))\n",
    "mine_tree.frequent_itemset_list"
   ]
  },
  {
   "cell_type": "code",
   "execution_count": 21,
   "metadata": {},
   "outputs": [
    {
     "name": "stderr",
     "output_type": "stream",
     "text": [
      "100%|████████████████████████████████████████████████████████████████████| 7/7 [00:09<00:00,  1.43s/it]\n"
     ]
    }
   ],
   "source": [
    "min_thresh=[0.001,0.01,0.05,0.1,0.5,0.95,1]\n",
    "fp_top_down=[]\n",
    "from time import time\n",
    "for thresh in tqdm(min_thresh):\n",
    "    start=time()\n",
    "    fp_tree_object=build_fp_tree(transaction_dict,thresh*len(transaction_dict))\n",
    "    fp_tree_root,header_table=fp_tree_object.create_tree()\n",
    "    mine_tree=MineFPTree(thresh*len(transaction_dict))\n",
    "    mine_tree.find_frequent_itemsets(fp_tree_root,header_table,set([]))\n",
    "    end=time()\n",
    "    fp_top_down.append(end-start)"
   ]
  },
  {
   "cell_type": "code",
   "execution_count": 25,
   "metadata": {},
   "outputs": [],
   "source": [
    "library_fp=[2.727998733520508,\n",
    " 0.9069375991821289,\n",
    " 0.6270380020141602,\n",
    " 0.6419644355773926,\n",
    " 0.6100003719329834,\n",
    " 0.6520016193389893,\n",
    " 0.6179986000061035]"
   ]
  },
  {
   "cell_type": "code",
   "execution_count": 24,
   "metadata": {},
   "outputs": [
    {
     "data": {
      "text/plain": [
       "[8.054324626922607,\n",
       " 1.396963119506836,\n",
       " 0.14299821853637695,\n",
       " 0.10703396797180176,\n",
       " 0.09696149826049805,\n",
       " 0.09800386428833008,\n",
       " 0.09799718856811523]"
      ]
     },
     "execution_count": 24,
     "metadata": {},
     "output_type": "execute_result"
    }
   ],
   "source": [
    "fp_top_down"
   ]
  },
  {
   "cell_type": "code",
   "execution_count": 26,
   "metadata": {},
   "outputs": [
    {
     "data": {
      "image/png": "[encoded data removed]",
      "text/plain": [
       "<Figure size 720x720 with 1 Axes>"
      ]
     },
     "metadata": {
      "needs_background": "light"
     },
     "output_type": "display_data"
    }
   ],
   "source": [
    "min_thresh=[0.001,0.01,0.05,0.1,0.5,0.95,1]\n",
    "\n",
    "import matplotlib.pyplot as plt\n",
    "\n",
    "plt.figure(figsize=(10,10))\n",
    "\n",
    "\n",
    "plt.plot(min_thresh,fp_top_down,label='TOP DOWN FP-GROWTH')\n",
    "plt.scatter(min_thresh,fp_top_down)\n",
    "\n",
    "plt.plot(min_thresh,library_fp,label='Library implementation FP-GROWTH')\n",
    "plt.scatter(min_thresh,library_fp)\n",
    "\n",
    "plt.xlabel('min-support')\n",
    "plt.ylabel('time taken in seconds')\n",
    "\n",
    "plt.legend(fontsize=20,loc=\"upper right\")\n",
    "plt.show()"
   ]
  },
  {
   "cell_type": "code",
   "execution_count": null,
   "metadata": {},
   "outputs": [],
   "source": []
  },
  {
   "cell_type": "code",
   "execution_count": null,
   "metadata": {},
   "outputs": [],
   "source": []
  },
  {
   "cell_type": "code",
   "execution_count": null,
   "metadata": {},
   "outputs": [],
   "source": []
  },
  {
   "cell_type": "code",
   "execution_count": null,
   "metadata": {},
   "outputs": [],
   "source": []
  },
  {
   "cell_type": "code",
   "execution_count": null,
   "metadata": {},
   "outputs": [],
   "source": []
  },
  {
   "cell_type": "code",
   "execution_count": null,
   "metadata": {},
   "outputs": [],
   "source": []
  },
  {
   "cell_type": "code",
   "execution_count": null,
   "metadata": {},
   "outputs": [],
   "source": []
  },
  {
   "cell_type": "code",
   "execution_count": null,
   "metadata": {},
   "outputs": [],
   "source": []
  },
  {
   "cell_type": "code",
   "execution_count": null,
   "metadata": {},
   "outputs": [],
   "source": []
  }
 ],
 "metadata": {
  "kernelspec": {
   "display_name": "Python 3",
   "language": "python",
   "name": "python3"
  },
  "language_info": {
   "codemirror_mode": {
    "name": "ipython",
    "version": 3
   },
   "file_extension": ".py",
   "mimetype": "text/x-python",
   "name": "python",
   "nbconvert_exporter": "python",
   "pygments_lexer": "ipython3",
   "version": "3.7.7"
  }
 },
 "nbformat": 4,
 "nbformat_minor": 4
}
